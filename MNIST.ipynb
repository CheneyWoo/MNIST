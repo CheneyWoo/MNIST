{
 "cells": [
  {
   "cell_type": "markdown",
   "metadata": {},
   "source": [
    "# MLP"
   ]
  },
  {
   "cell_type": "code",
   "execution_count": 1,
   "metadata": {
    "scrolled": false
   },
   "outputs": [
    {
     "name": "stdout",
     "output_type": "stream",
     "text": [
      "WARNING:tensorflow:From <ipython-input-1-bec3987c48e4>:4: read_data_sets (from tensorflow.contrib.learn.python.learn.datasets.mnist) is deprecated and will be removed in a future version.\n",
      "Instructions for updating:\n",
      "Please use alternatives such as official/mnist/dataset.py from tensorflow/models.\n",
      "WARNING:tensorflow:From /usr/local/lib/python2.7/site-packages/tensorflow/contrib/learn/python/learn/datasets/mnist.py:260: maybe_download (from tensorflow.contrib.learn.python.learn.datasets.base) is deprecated and will be removed in a future version.\n",
      "Instructions for updating:\n",
      "Please write your own downloading logic.\n",
      "WARNING:tensorflow:From /usr/local/lib/python2.7/site-packages/tensorflow/contrib/learn/python/learn/datasets/mnist.py:262: extract_images (from tensorflow.contrib.learn.python.learn.datasets.mnist) is deprecated and will be removed in a future version.\n",
      "Instructions for updating:\n",
      "Please use tf.data to implement this functionality.\n",
      "Extracting MNIST_data/train-images-idx3-ubyte.gz\n",
      "WARNING:tensorflow:From /usr/local/lib/python2.7/site-packages/tensorflow/contrib/learn/python/learn/datasets/mnist.py:267: extract_labels (from tensorflow.contrib.learn.python.learn.datasets.mnist) is deprecated and will be removed in a future version.\n",
      "Instructions for updating:\n",
      "Please use tf.data to implement this functionality.\n",
      "Extracting MNIST_data/train-labels-idx1-ubyte.gz\n",
      "WARNING:tensorflow:From /usr/local/lib/python2.7/site-packages/tensorflow/contrib/learn/python/learn/datasets/mnist.py:110: dense_to_one_hot (from tensorflow.contrib.learn.python.learn.datasets.mnist) is deprecated and will be removed in a future version.\n",
      "Instructions for updating:\n",
      "Please use tf.one_hot on tensors.\n",
      "Extracting MNIST_data/t10k-images-idx3-ubyte.gz\n",
      "Extracting MNIST_data/t10k-labels-idx1-ubyte.gz\n",
      "WARNING:tensorflow:From /usr/local/lib/python2.7/site-packages/tensorflow/contrib/learn/python/learn/datasets/mnist.py:290: __init__ (from tensorflow.contrib.learn.python.learn.datasets.mnist) is deprecated and will be removed in a future version.\n",
      "Instructions for updating:\n",
      "Please use alternatives such as official/mnist/dataset.py from tensorflow/models.\n",
      "WARNING:tensorflow:From <ipython-input-1-bec3987c48e4>:33: softmax_cross_entropy_with_logits (from tensorflow.python.ops.nn_ops) is deprecated and will be removed in a future version.\n",
      "Instructions for updating:\n",
      "\n",
      "Future major versions of TensorFlow will allow gradients to flow\n",
      "into the labels input on backprop by default.\n",
      "\n",
      "See @{tf.nn.softmax_cross_entropy_with_logits_v2}.\n",
      "\n",
      "Learning stared. It takes sometime.\n",
      "('Epoch:', '0001', 'cost =', '1.720635632')\n",
      "('Epoch:', '0002', 'cost =', '1.558356314')\n",
      "('Epoch:', '0003', 'cost =', '1.532139109')\n",
      "('Epoch:', '0004', 'cost =', '1.517704638')\n",
      "('Epoch:', '0005', 'cost =', '1.508026276')\n",
      "('Epoch:', '0006', 'cost =', '1.501597532')\n",
      "('Epoch:', '0007', 'cost =', '1.495749642')\n",
      "('Epoch:', '0008', 'cost =', '1.492348151')\n",
      "('Epoch:', '0009', 'cost =', '1.489159840')\n",
      "('Epoch:', '0010', 'cost =', '1.485895300')\n",
      "('Epoch:', '0011', 'cost =', '1.484289417')\n",
      "('Epoch:', '0012', 'cost =', '1.482854342')\n",
      "('Epoch:', '0013', 'cost =', '1.480644641')\n",
      "('Epoch:', '0014', 'cost =', '1.479145753')\n",
      "('Epoch:', '0015', 'cost =', '1.478393473')\n",
      "('Epoch:', '0016', 'cost =', '1.477043979')\n",
      "('Epoch:', '0017', 'cost =', '1.475944949')\n",
      "('Epoch:', '0018', 'cost =', '1.475287503')\n",
      "('Epoch:', '0019', 'cost =', '1.473958122')\n",
      "('Epoch:', '0020', 'cost =', '1.473273601')\n",
      "('Epoch:', '0021', 'cost =', '1.473012903')\n",
      "('Epoch:', '0022', 'cost =', '1.472022593')\n",
      "('Epoch:', '0023', 'cost =', '1.471639321')\n",
      "('Epoch:', '0024', 'cost =', '1.470938624')\n",
      "('Epoch:', '0025', 'cost =', '1.471033491')\n",
      "Learning Finished!\n",
      "('Accuracy:', 0.9637)\n"
     ]
    }
   ],
   "source": [
    "import tensorflow as tf\n",
    "from tensorflow.examples.tutorials.mnist import input_data\n",
    "\n",
    "mnist = input_data.read_data_sets(\"MNIST_data/\", one_hot=True)\n",
    "\n",
    "INPUT_SIZE = 28\n",
    "HIDDEN1_SIZE = 256\n",
    "HIDDEN2_SIZE = 256\n",
    "LR = 0.002\n",
    "N_CLASSES = 10\n",
    "TRAINING_EPOCH = 25\n",
    "BATCH_SIZE = 100\n",
    "\n",
    "X = tf.placeholder(tf.float32, [None, INPUT_SIZE * INPUT_SIZE])\n",
    "Y = tf.placeholder(tf.float32, [None, N_CLASSES])\n",
    "\n",
    "W1 = tf.Variable(tf.random_normal([INPUT_SIZE * INPUT_SIZE, HIDDEN1_SIZE]))\n",
    "b1 = tf.Variable(tf.random_normal([HIDDEN1_SIZE]))\n",
    "L1=tf.nn.sigmoid(tf.matmul(X,W1) + b1)\n",
    "\n",
    "W2 = tf.Variable(tf.random_normal([HIDDEN1_SIZE, HIDDEN2_SIZE]))\n",
    "b2 = tf.Variable(tf.random_normal([HIDDEN2_SIZE]))\n",
    "L2=tf.nn.sigmoid(tf.matmul(L1,W2) + b2)\n",
    "\n",
    "W3 = tf.Variable(tf.random_normal([HIDDEN1_SIZE, HIDDEN2_SIZE]))\n",
    "b3 = tf.Variable(tf.random_normal([HIDDEN2_SIZE]))\n",
    "L3=tf.nn.sigmoid(tf.matmul(L2,W3) + b3)\n",
    "\n",
    "W = tf.Variable(tf.random_normal([HIDDEN2_SIZE, N_CLASSES]))\n",
    "b = tf.Variable(tf.random_normal([N_CLASSES]))\n",
    "hypothesis = tf.nn.sigmoid(tf.matmul(L3,W) + b)\n",
    "\n",
    "cost = tf.reduce_mean(tf.nn.softmax_cross_entropy_with_logits(logits = hypothesis,labels = Y))\n",
    "optimizer=tf.train.AdamOptimizer(learning_rate=LR).minimize(cost)\n",
    "\n",
    "sess = tf.Session()\n",
    "sess.run(tf.global_variables_initializer())\n",
    "\n",
    "print('Learning stared. It takes sometime.')\n",
    "for epoch in range(TRAINING_EPOCH):\n",
    "    avg_cost = 0\n",
    "    total_batch = int(mnist.train.num_examples / BATCH_SIZE)\n",
    "    for i in range(total_batch):\n",
    "        batch_xs, batch_ys = mnist.train.next_batch(BATCH_SIZE)\n",
    "        c, _, = sess.run([cost, optimizer], feed_dict= {X: batch_xs, Y: batch_ys})\n",
    "        avg_cost += c / total_batch\n",
    "    print('Epoch:', '%04d' % (epoch + 1), 'cost =', '{:.9f}'.format(avg_cost))\n",
    "print('Learning Finished!')\n",
    "\n",
    "correct_prediction = tf.equal(tf.argmax(hypothesis, 1), tf.argmax(Y, 1))\n",
    "accuracy = tf.reduce_mean(tf.cast(correct_prediction, tf.float32))\n",
    "print('Accuracy:', sess.run(accuracy, feed_dict={X: mnist.test.images, Y: mnist.test.labels}))"
   ]
  },
  {
   "cell_type": "code",
   "execution_count": 32,
   "metadata": {},
   "outputs": [
    {
     "name": "stdout",
     "output_type": "stream",
     "text": [
      "('Label:', array([6]))\n",
      "('Prediction:', array([6]))\n"
     ]
    },
    {
     "data": {
      "image/png": "[encoded data removed]",
      "text/plain": [
       "<Figure size 432x288 with 1 Axes>"
      ]
     },
     "metadata": {},
     "output_type": "display_data"
    }
   ],
   "source": [
    "import random\n",
    "import matplotlib.pyplot as plt\n",
    "# Get one and predict\n",
    "r = random.randint(0, mnist.test.num_examples - 1)\n",
    "print(\"Label:\", sess.run(tf.argmax(mnist.test.labels[r:r+1], 1)))\n",
    "print(\"Prediction:\", sess.run(tf.argmax(hypothesis, 1), feed_dict={X: mnist.test.images[r:r + 1]}))\n",
    "\n",
    "plt.imshow(mnist.test.images[r:r + 1].reshape(28, 28), cmap='Blues', interpolation='nearest')\n",
    "plt.show()"
   ]
  },
  {
   "cell_type": "markdown",
   "metadata": {},
   "source": [
    "# CNN"
   ]
  },
  {
   "cell_type": "code",
   "execution_count": 6,
   "metadata": {},
   "outputs": [
    {
     "name": "stdout",
     "output_type": "stream",
     "text": [
      "Extracting MNIST_data/train-images-idx3-ubyte.gz\n",
      "Extracting MNIST_data/train-labels-idx1-ubyte.gz\n",
      "Extracting MNIST_data/t10k-images-idx3-ubyte.gz\n",
      "Extracting MNIST_data/t10k-labels-idx1-ubyte.gz\n",
      "Learning stared. It takes sometime.\n",
      "('Epoch:', '0001', 'cost =', '0.165753783')\n",
      "('Epoch:', '0002', 'cost =', '0.053980820')\n",
      "('Epoch:', '0003', 'cost =', '0.040394988')\n",
      "('Epoch:', '0004', 'cost =', '0.033517385')\n",
      "('Epoch:', '0005', 'cost =', '0.029954070')\n",
      "('Epoch:', '0006', 'cost =', '0.025651971')\n",
      "('Epoch:', '0007', 'cost =', '0.024792020')\n",
      "('Epoch:', '0008', 'cost =', '0.021648961')\n",
      "('Epoch:', '0009', 'cost =', '0.022527923')\n",
      "('Epoch:', '0010', 'cost =', '0.019885197')\n",
      "('Epoch:', '0011', 'cost =', '0.016224105')\n",
      "('Epoch:', '0012', 'cost =', '0.019094046')\n",
      "('Epoch:', '0013', 'cost =', '0.018698463')\n",
      "('Epoch:', '0014', 'cost =', '0.017875184')\n",
      "('Epoch:', '0015', 'cost =', '0.013348344')\n",
      "Learning Finished!\n",
      "('Accuracy:', 0.9873)\n"
     ]
    }
   ],
   "source": [
    "import tensorflow as tf\n",
    "from tensorflow.examples.tutorials.mnist import input_data\n",
    "\n",
    "mnist = input_data.read_data_sets(\"MNIST_data/\", one_hot=True)\n",
    "tf.reset_default_graph()\n",
    "\n",
    "INPUT_SIZE = 28\n",
    "LR = 0.01\n",
    "N_CLASSES = 10\n",
    "TRAINING_EPOCHS = 15\n",
    "BATCH_SIZE = 100\n",
    "\n",
    "X = tf.placeholder(tf.float32, [None, INPUT_SIZE * INPUT_SIZE])\n",
    "X_img = tf.reshape(X, [-1, INPUT_SIZE, INPUT_SIZE, 1])\n",
    "Y = tf.placeholder(tf.float32, [None, N_CLASSES])\n",
    "\n",
    "#卷积层将要计算出32个特征映射(feature map)，对每个3 * 3的patch。它的权值tensor的大小为[3, 3, 1, 32]. 前两维是patch的大小，第三维时输入通道的数目，最后一维是输出通道的数目。我们对每个输出通道加上了偏置(bias)\n",
    "W1 = tf.Variable(tf.random_normal([3, 3, 1, 32], stddev=0.01))\n",
    "#卷积操作仅使用了滑动步长为1的窗口，使用0进行填充，所以输出规模和输入的一致\n",
    "L1 = tf.nn.conv2d(X_img, W1, strides=[1, 1, 1, 1], padding='SAME') \n",
    "L1 = tf.nn.relu(L1)\n",
    "#在2 * 2的窗口内采用最大池化技术(max-pooling)，padding='SAME'表示通过填充0，使得输入和输出的形状一致\n",
    "L1 = tf.nn.max_pool(L1, ksize=[1, 2, 2, 1], strides=[1, 2, 2, 1], padding='SAME') \n",
    "\n",
    "W2 = tf.Variable(tf.random_normal([3, 3, 32, 64], stddev=0.01))\n",
    "L2 = tf.nn.conv2d(L1, W2, strides=[1, 1, 1, 1], padding='SAME') \n",
    "L2 = tf.nn.relu(L2)\n",
    "L2 = tf.nn.max_pool(L2, ksize=[1, 2, 2, 1], strides=[1, 2, 2, 1], padding='SAME')\n",
    "L2 = tf.reshape(L2, [-1, 7 * 7 * 64])\n",
    "\n",
    "W3 = tf.get_variable(\"W3\", shape=[7 * 7 * 64, N_CLASSES], initializer=tf.contrib.layers.xavier_initializer())\n",
    "b = tf.Variable(tf.random_normal([N_CLASSES]))\n",
    "hypothesis = tf.matmul(L2, W3) + b\n",
    "\n",
    "cost = tf.reduce_mean(tf.nn.softmax_cross_entropy_with_logits(logits=hypothesis, labels=Y))\n",
    "optimizer = tf.train.AdamOptimizer(learning_rate=LR).minimize(cost)\n",
    "\n",
    "sess = tf.Session()\n",
    "sess.run(tf.global_variables_initializer())\n",
    "\n",
    "print('Learning stared. It takes sometime.')\n",
    "for epoch in range(TRAINING_EPOCH):\n",
    "    avg_cost = 0\n",
    "    total_batch = int(mnist.train.num_examples / BATCH_SIZE)\n",
    "    for i in range(total_batch):\n",
    "        batch_xs, batch_ys = mnist.train.next_batch(BATCH_SIZE)\n",
    "        c, _, = sess.run([cost, optimizer], feed_dict= {X: batch_xs, Y: batch_ys})\n",
    "        avg_cost += c / total_batch\n",
    "    print('Epoch:', '%04d' % (epoch + 1), 'cost =', '{:.9f}'.format(avg_cost))\n",
    "print('Learning Finished!')\n",
    "\n",
    "correct_prediction = tf.equal(tf.argmax(hypothesis, 1), tf.argmax(Y, 1))\n",
    "accuracy = tf.reduce_mean(tf.cast(correct_prediction, tf.float32))\n",
    "print('Accuracy:', sess.run(accuracy, feed_dict={X: mnist.test.images, Y: mnist.test.labels}))\n"
   ]
  },
  {
   "cell_type": "code",
   "execution_count": 22,
   "metadata": {},
   "outputs": [
    {
     "name": "stdout",
     "output_type": "stream",
     "text": [
      "('Label:', array([4]))\n",
      "('Prediction:', array([4]))\n"
     ]
    },
    {
     "data": {
      "image/png": "[encoded data removed]",
      "text/plain": [
       "<Figure size 432x288 with 1 Axes>"
      ]
     },
     "metadata": {},
     "output_type": "display_data"
    }
   ],
   "source": [
    "import random\n",
    "import matplotlib.pyplot as plt\n",
    "\n",
    "# Get one and predict\n",
    "r = random.randint(0, mnist.test.num_examples - 1)\n",
    "print(\"Label:\", sess.run(tf.argmax(mnist.test.labels[r:r+1], 1)))\n",
    "print(\"Prediction:\", sess.run(tf.argmax(hypothesis, 1), feed_dict={X: mnist.test.images[r:r + 1]}))\n",
    "\n",
    "plt.imshow(mnist.test.images[r:r + 1].reshape(28, 28), cmap='Blues', interpolation='nearest')\n",
    "plt.show()\n"
   ]
  },
  {
   "cell_type": "markdown",
   "metadata": {},
   "source": [
    "# CNN2"
   ]
  },
  {
   "cell_type": "markdown",
   "metadata": {},
   "source": [
    "# LSTM"
   ]
  },
  {
   "cell_type": "code",
   "execution_count": 217,
   "metadata": {},
   "outputs": [
    {
     "name": "stdout",
     "output_type": "stream",
     "text": [
      "Learning stared. It takes sometime.\n",
      "('Epoch:', '0001', 'cost =', '0.323201661')\n",
      "('Epoch:', '0002', 'cost =', '0.095503352')\n",
      "('Epoch:', '0003', 'cost =', '0.072249912')\n",
      "('Epoch:', '0004', 'cost =', '0.058960173')\n",
      "('Epoch:', '0005', 'cost =', '0.054015902')\n",
      "('Epoch:', '0006', 'cost =', '0.044566705')\n",
      "('Epoch:', '0007', 'cost =', '0.044167242')\n",
      "('Epoch:', '0008', 'cost =', '0.043702604')\n",
      "('Epoch:', '0009', 'cost =', '0.036726483')\n",
      "('Epoch:', '0010', 'cost =', '0.037002085')\n",
      "('Epoch:', '0011', 'cost =', '0.042591846')\n",
      "('Epoch:', '0012', 'cost =', '0.042531952')\n",
      "('Epoch:', '0013', 'cost =', '0.035891655')\n",
      "('Epoch:', '0014', 'cost =', '0.039202791')\n",
      "('Epoch:', '0015', 'cost =', '0.039374829')\n",
      "Learning Finished!\n",
      "('Accuracy:', 0.9817)\n"
     ]
    }
   ],
   "source": [
    "tf.reset_default_graph()\n",
    "TRAINING_EPOCH = 15\n",
    "BATCH_SIZE = 100 \n",
    "TIME_STEP = 28      \n",
    "INPUT_SIZE = 28\n",
    "N_CLASSES = 10\n",
    "LR = 0.01\n",
    "NUM_UNITS = 100\n",
    "\n",
    "X = tf.placeholder(tf.float32, [None, TIME_STEP * INPUT_SIZE])\n",
    "X_img = tf.reshape(X, [-1, TIME_STEP, INPUT_SIZE]) \n",
    "Y = tf.placeholder(tf.float32, [None, N_CLASSES])\n",
    "\n",
    "# TensorFlow 中，基础的 LSTM 单元格声明\n",
    "#num_units 指一个 LSTM 单元格中的单元数。\n",
    "#num_units 可以比作前馈神经网络中的隐藏层，前馈神经网络的隐藏层的节点数量等于每一个时间步中一个 LSTM 单元格内 LSTM 单元的 num_units 数量。\n",
    "rnn_cell = tf.contrib.rnn.BasicLSTMCell(num_units=NUM_UNITS) \n",
    "outputs,final_state = tf.nn.dynamic_rnn(\n",
    "    cell=rnn_cell,      \n",
    "    inputs=X_img, \n",
    "    initial_state=None, \n",
    "    dtype=tf.float32, \n",
    "    time_major=False )\n",
    "#考虑最后一个时间步的输入，生成预测\n",
    "hypothesis = tf.layers.dense(inputs=outputs[:, -1, :], units=N_CLASSES)  \n",
    "\n",
    "cost = tf.losses.softmax_cross_entropy(onehot_labels=Y, logits=hypothesis)                             \n",
    "optimizer = tf.train.AdamOptimizer(LR).minimize(cost)\n",
    "\n",
    "sess = tf.Session()\n",
    "sess.run(tf.global_variables_initializer())\n",
    "\n",
    "print('Learning stared. It takes sometime.')\n",
    "for epoch in range(TRAINING_EPOCH):\n",
    "    avg_cost = 0\n",
    "    total_batch = int(mnist.train.num_examples / BATCH_SIZE)\n",
    "    for i in range(total_batch):\n",
    "        batch_xs, batch_ys = mnist.train.next_batch(BATCH_SIZE)\n",
    "        c, _, = sess.run([cost, optimizer], feed_dict= {X: batch_xs, Y: batch_ys})\n",
    "        avg_cost += c / total_batch\n",
    "    print('Epoch:', '%04d' % (epoch + 1), 'cost =', '{:.9f}'.format(avg_cost))\n",
    "print('Learning Finished!')\n",
    "\n",
    "correct_prediction = tf.equal(tf.argmax(Y, axis=1),tf.argmax(output, axis=1))\n",
    "accuracy = tf.reduce_mean(tf.cast(correct_prediction, tf.float32))\n",
    "print('Accuracy:', sess.run(accuracy, feed_dict={X: mnist.test.images, Y: mnist.test.labels}))\n"
   ]
  },
  {
   "cell_type": "code",
   "execution_count": 17,
   "metadata": {},
   "outputs": [
    {
     "name": "stdout",
     "output_type": "stream",
     "text": [
      "('Label:', array([5]))\n",
      "('Prediction:', array([5]))\n"
     ]
    },
    {
     "data": {
      "image/png": "[encoded data removed]",
      "text/plain": [
       "<Figure size 432x288 with 1 Axes>"
      ]
     },
     "metadata": {},
     "output_type": "display_data"
    }
   ],
   "source": [
    "# Get one and predict\n",
    "r = random.randint(0, mnist.test.num_examples - 1)\n",
    "print(\"Label:\", sess.run(tf.argmax(mnist.test.labels[r:r+1], 1)))\n",
    "print(\"Prediction:\", sess.run(tf.argmax(hypothesis, 1), feed_dict={X: mnist.test.images[r:r + 1]}))\n",
    "\n",
    "plt.imshow(mnist.test.images[r:r + 1].reshape(28, 28), cmap='Blues', interpolation='nearest')\n",
    "plt.show()"
   ]
  },
  {
   "cell_type": "code",
   "execution_count": 5,
   "metadata": {},
   "outputs": [
    {
     "name": "stdout",
     "output_type": "stream",
     "text": [
      "Extracting MNIST_data/train-images-idx3-ubyte.gz\n",
      "Extracting MNIST_data/train-labels-idx1-ubyte.gz\n",
      "Extracting MNIST_data/t10k-images-idx3-ubyte.gz\n",
      "Extracting MNIST_data/t10k-labels-idx1-ubyte.gz\n"
     ]
    },
    {
     "data": {
      "text/plain": [
       "55000"
      ]
     },
     "execution_count": 5,
     "metadata": {},
     "output_type": "execute_result"
    }
   ],
   "source": [
    "import tensorflow as tf\n",
    "from tensorflow.examples.tutorials.mnist import input_data\n",
    "\n",
    "mnist = input_data.read_data_sets(\"MNIST_data/\", one_hot=True)\n",
    "mnist.train.num_examples"
   ]
  },
  {
   "cell_type": "code",
   "execution_count": 18,
   "metadata": {},
   "outputs": [
    {
     "name": "stdout",
     "output_type": "stream",
     "text": [
      "(100, 784) (100, 10)\n"
     ]
    }
   ],
   "source": [
    "batch_xs, batch_ys = mnist.train.next_batch(100)\n",
    "print batch_xs.shape, batch_ys.shape"
   ]
  },
  {
   "cell_type": "code",
   "execution_count": null,
   "metadata": {},
   "outputs": [],
   "source": []
  }
 ],
 "metadata": {
  "kernelspec": {
   "display_name": "Python 2",
   "language": "python",
   "name": "python2"
  },
  "language_info": {
   "codemirror_mode": {
    "name": "ipython",
    "version": 2
   },
   "file_extension": ".py",
   "mimetype": "text/x-python",
   "name": "python",
   "nbconvert_exporter": "python",
   "pygments_lexer": "ipython2",
   "version": "2.7.15"
  }
 },
 "nbformat": 4,
 "nbformat_minor": 2
}
